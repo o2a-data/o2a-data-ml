{
 "cells": [
  {
   "cell_type": "code",
   "execution_count": 1,
   "metadata": {},
   "outputs": [],
   "source": [
    "import pandas as pd\n",
    "import numpy as np\n",
    "from sklearn.model_selection import train_test_split\n",
    "from sklearn.neighbors import KNeighborsClassifier\n",
    "from sklearn.tree import DecisionTreeClassifier\n",
    "from sklearn.ensemble import RandomForestClassifier\n",
    "from sklearn import svm\n",
    "from sklearn.neural_network import MLPClassifier\n",
    "import matplotlib.pyplot as plt\n",
    "from sklearn.metrics import confusion_matrix\n",
    "from sklearn.preprocessing import StandardScaler"
   ]
  },
  {
   "cell_type": "code",
   "execution_count": 2,
   "metadata": {},
   "outputs": [],
   "source": [
    "import warnings\n",
    "warnings.simplefilter(action='ignore', category=FutureWarning)"
   ]
  },
  {
   "cell_type": "code",
   "execution_count": 3,
   "metadata": {},
   "outputs": [],
   "source": [
    "def plot_confusion_matrix(y_true, y_pred, classes,\n",
    "                          normalize=False,\n",
    "                          title=None,\n",
    "                          cmap=plt.cm.Blues):\n",
    "    \"\"\"\n",
    "    This function prints and plots the confusion matrix.\n",
    "    Normalization can be applied by setting `normalize=True`.\n",
    "    \"\"\"\n",
    "    if not title:\n",
    "        if normalize:\n",
    "            title = 'Normalized confusion matrix'\n",
    "        else:\n",
    "            title = 'Confusion matrix, without normalization'\n",
    "\n",
    "    # Compute confusion matrix\n",
    "    cm = confusion_matrix(y_true, y_pred)\n",
    "    # Only use the labels that appear in the data\n",
    "    #classes = classes[unique_labels(y_true, y_pred)]\n",
    "    if normalize:\n",
    "        cm = cm.astype('float') / cm.sum(axis=1)[:, np.newaxis]\n",
    "        print(\"Normalized confusion matrix\")\n",
    "    else:\n",
    "        print('Confusion matrix, without normalization')\n",
    "\n",
    "    #print(cm)\n",
    "\n",
    "    fig, ax = plt.subplots(figsize=(10, 10))\n",
    "    \n",
    "    im = ax.imshow(cm, interpolation='nearest', cmap=cmap)\n",
    "    ax.figure.colorbar(im, ax=ax)\n",
    "    # We want to show all ticks...\n",
    "    ax.set(xticks=np.arange(cm.shape[1]),\n",
    "           yticks=np.arange(cm.shape[0]),\n",
    "           # ... and label them with the respective list entries\n",
    "           xticklabels=classes, yticklabels=classes,\n",
    "           title=title,\n",
    "           ylabel='True label',\n",
    "           xlabel='Predicted label')\n",
    "\n",
    "    # Rotate the tick labels and set their alignment.\n",
    "    plt.setp(ax.get_xticklabels(), rotation=45, ha=\"right\",\n",
    "             rotation_mode=\"anchor\")\n",
    "\n",
    "    # Loop over data dimensions and create text annotations.\n",
    "    fmt = '.2f' if normalize else 'd'\n",
    "    thresh = cm.max() / 2.\n",
    "    for i in range(cm.shape[0]):\n",
    "        for j in range(cm.shape[1]):\n",
    "            ax.text(j, i, format(cm[i, j], fmt),\n",
    "                    ha=\"center\", va=\"center\",\n",
    "                    color=\"white\" if cm[i, j] > thresh else \"black\")\n",
    "    fig.tight_layout()\n",
    "    return ax"
   ]
  },
  {
   "cell_type": "markdown",
   "metadata": {},
   "source": [
    "Read preprocessed data"
   ]
  },
  {
   "cell_type": "raw",
   "metadata": {},
   "source": [
    "df = pd.read_csv(\"../data/loki_descriptors_subsample_194.csv\")"
   ]
  },
  {
   "cell_type": "code",
   "execution_count": 4,
   "metadata": {},
   "outputs": [],
   "source": [
    "df = pd.read_csv(\"../data/features_whaleAcoustics.csv\",sep=\";\")"
   ]
  },
  {
   "cell_type": "code",
   "execution_count": 5,
   "metadata": {},
   "outputs": [
    {
     "data": {
      "text/plain": [
       "(4136, 7)"
      ]
     },
     "execution_count": 5,
     "metadata": {},
     "output_type": "execute_result"
    }
   ],
   "source": [
    "df.shape"
   ]
  },
  {
   "cell_type": "code",
   "execution_count": 6,
   "metadata": {},
   "outputs": [
    {
     "data": {
      "text/plain": [
       "Index(['Label', 'Zero crossing rate', 'total energy', 'Standard deviation',\n",
       "       'Spectral centroid', 'Spectral rolloff', 'Spectral flatness'],\n",
       "      dtype='object')"
      ]
     },
     "execution_count": 6,
     "metadata": {},
     "output_type": "execute_result"
    }
   ],
   "source": [
    "df.columns"
   ]
  },
  {
   "cell_type": "code",
   "execution_count": 7,
   "metadata": {},
   "outputs": [
    {
     "data": {
      "text/html": [
       "<div>\n",
       "<style scoped>\n",
       "    .dataframe tbody tr th:only-of-type {\n",
       "        vertical-align: middle;\n",
       "    }\n",
       "\n",
       "    .dataframe tbody tr th {\n",
       "        vertical-align: top;\n",
       "    }\n",
       "\n",
       "    .dataframe thead th {\n",
       "        text-align: right;\n",
       "    }\n",
       "</style>\n",
       "<table border=\"1\" class=\"dataframe\">\n",
       "  <thead>\n",
       "    <tr style=\"text-align: right;\">\n",
       "      <th></th>\n",
       "      <th>Zero crossing rate</th>\n",
       "      <th>total energy</th>\n",
       "      <th>Standard deviation</th>\n",
       "      <th>Spectral centroid</th>\n",
       "      <th>Spectral rolloff</th>\n",
       "      <th>Spectral flatness</th>\n",
       "    </tr>\n",
       "  </thead>\n",
       "  <tbody>\n",
       "    <tr>\n",
       "      <th>count</th>\n",
       "      <td>4136.000000</td>\n",
       "      <td>4136.000000</td>\n",
       "      <td>4136.000000</td>\n",
       "      <td>4136.000000</td>\n",
       "      <td>4136.000000</td>\n",
       "      <td>4136.000000</td>\n",
       "    </tr>\n",
       "    <tr>\n",
       "      <th>mean</th>\n",
       "      <td>816.682785</td>\n",
       "      <td>0.002914</td>\n",
       "      <td>0.042800</td>\n",
       "      <td>847.447952</td>\n",
       "      <td>1910.964262</td>\n",
       "      <td>0.002342</td>\n",
       "    </tr>\n",
       "    <tr>\n",
       "      <th>std</th>\n",
       "      <td>513.960181</td>\n",
       "      <td>0.005657</td>\n",
       "      <td>0.032859</td>\n",
       "      <td>476.075794</td>\n",
       "      <td>497.953299</td>\n",
       "      <td>0.002780</td>\n",
       "    </tr>\n",
       "    <tr>\n",
       "      <th>min</th>\n",
       "      <td>135.000000</td>\n",
       "      <td>0.000090</td>\n",
       "      <td>0.009505</td>\n",
       "      <td>351.881857</td>\n",
       "      <td>1149.463719</td>\n",
       "      <td>0.000219</td>\n",
       "    </tr>\n",
       "    <tr>\n",
       "      <th>25%</th>\n",
       "      <td>422.000000</td>\n",
       "      <td>0.000385</td>\n",
       "      <td>0.019624</td>\n",
       "      <td>419.633251</td>\n",
       "      <td>1498.164691</td>\n",
       "      <td>0.000319</td>\n",
       "    </tr>\n",
       "    <tr>\n",
       "      <th>50%</th>\n",
       "      <td>624.000000</td>\n",
       "      <td>0.001418</td>\n",
       "      <td>0.037621</td>\n",
       "      <td>753.668599</td>\n",
       "      <td>1648.431776</td>\n",
       "      <td>0.000705</td>\n",
       "    </tr>\n",
       "    <tr>\n",
       "      <th>75%</th>\n",
       "      <td>1156.000000</td>\n",
       "      <td>0.002398</td>\n",
       "      <td>0.048946</td>\n",
       "      <td>1487.300377</td>\n",
       "      <td>2456.916190</td>\n",
       "      <td>0.005416</td>\n",
       "    </tr>\n",
       "    <tr>\n",
       "      <th>max</th>\n",
       "      <td>2930.000000</td>\n",
       "      <td>0.079841</td>\n",
       "      <td>0.282547</td>\n",
       "      <td>1723.784407</td>\n",
       "      <td>2848.888208</td>\n",
       "      <td>0.008681</td>\n",
       "    </tr>\n",
       "  </tbody>\n",
       "</table>\n",
       "</div>"
      ],
      "text/plain": [
       "       Zero crossing rate  total energy  Standard deviation  \\\n",
       "count         4136.000000   4136.000000         4136.000000   \n",
       "mean           816.682785      0.002914            0.042800   \n",
       "std            513.960181      0.005657            0.032859   \n",
       "min            135.000000      0.000090            0.009505   \n",
       "25%            422.000000      0.000385            0.019624   \n",
       "50%            624.000000      0.001418            0.037621   \n",
       "75%           1156.000000      0.002398            0.048946   \n",
       "max           2930.000000      0.079841            0.282547   \n",
       "\n",
       "       Spectral centroid  Spectral rolloff  Spectral flatness  \n",
       "count        4136.000000       4136.000000        4136.000000  \n",
       "mean          847.447952       1910.964262           0.002342  \n",
       "std           476.075794        497.953299           0.002780  \n",
       "min           351.881857       1149.463719           0.000219  \n",
       "25%           419.633251       1498.164691           0.000319  \n",
       "50%           753.668599       1648.431776           0.000705  \n",
       "75%          1487.300377       2456.916190           0.005416  \n",
       "max          1723.784407       2848.888208           0.008681  "
      ]
     },
     "execution_count": 7,
     "metadata": {},
     "output_type": "execute_result"
    }
   ],
   "source": [
    "df.describe()"
   ]
  },
  {
   "cell_type": "code",
   "execution_count": 8,
   "metadata": {},
   "outputs": [],
   "source": [
    "classes = set(df[\"Label\"])"
   ]
  },
  {
   "cell_type": "code",
   "execution_count": 9,
   "metadata": {},
   "outputs": [
    {
     "data": {
      "text/plain": [
       "{'Class A', 'Class B', 'Class C'}"
      ]
     },
     "execution_count": 9,
     "metadata": {},
     "output_type": "execute_result"
    }
   ],
   "source": [
    "classes"
   ]
  },
  {
   "cell_type": "code",
   "execution_count": 10,
   "metadata": {},
   "outputs": [],
   "source": [
    "randomSubsample1000 = pd.DataFrame()\n",
    "for label in classes:\n",
    "    try:\n",
    "        randomSubsample1000 = randomSubsample1000.append(df[df[\"Label\"]==label].sample(1000))\n",
    "    except: \n",
    "        print(f'Problems with label {label}')"
   ]
  },
  {
   "cell_type": "code",
   "execution_count": 11,
   "metadata": {},
   "outputs": [],
   "source": [
    "df=randomSubsample1000"
   ]
  },
  {
   "cell_type": "code",
   "execution_count": 12,
   "metadata": {},
   "outputs": [
    {
     "data": {
      "text/html": [
       "<div>\n",
       "<style scoped>\n",
       "    .dataframe tbody tr th:only-of-type {\n",
       "        vertical-align: middle;\n",
       "    }\n",
       "\n",
       "    .dataframe tbody tr th {\n",
       "        vertical-align: top;\n",
       "    }\n",
       "\n",
       "    .dataframe thead th {\n",
       "        text-align: right;\n",
       "    }\n",
       "</style>\n",
       "<table border=\"1\" class=\"dataframe\">\n",
       "  <thead>\n",
       "    <tr style=\"text-align: right;\">\n",
       "      <th></th>\n",
       "      <th>Zero crossing rate</th>\n",
       "      <th>total energy</th>\n",
       "      <th>Standard deviation</th>\n",
       "      <th>Spectral centroid</th>\n",
       "      <th>Spectral rolloff</th>\n",
       "      <th>Spectral flatness</th>\n",
       "    </tr>\n",
       "    <tr>\n",
       "      <th>Label</th>\n",
       "      <th></th>\n",
       "      <th></th>\n",
       "      <th></th>\n",
       "      <th></th>\n",
       "      <th></th>\n",
       "      <th></th>\n",
       "    </tr>\n",
       "  </thead>\n",
       "  <tbody>\n",
       "    <tr>\n",
       "      <th>Class A</th>\n",
       "      <td>1000</td>\n",
       "      <td>1000</td>\n",
       "      <td>1000</td>\n",
       "      <td>1000</td>\n",
       "      <td>1000</td>\n",
       "      <td>1000</td>\n",
       "    </tr>\n",
       "    <tr>\n",
       "      <th>Class B</th>\n",
       "      <td>1000</td>\n",
       "      <td>1000</td>\n",
       "      <td>1000</td>\n",
       "      <td>1000</td>\n",
       "      <td>1000</td>\n",
       "      <td>1000</td>\n",
       "    </tr>\n",
       "    <tr>\n",
       "      <th>Class C</th>\n",
       "      <td>1000</td>\n",
       "      <td>1000</td>\n",
       "      <td>1000</td>\n",
       "      <td>1000</td>\n",
       "      <td>1000</td>\n",
       "      <td>1000</td>\n",
       "    </tr>\n",
       "  </tbody>\n",
       "</table>\n",
       "</div>"
      ],
      "text/plain": [
       "         Zero crossing rate  total energy  Standard deviation  \\\n",
       "Label                                                           \n",
       "Class A                1000          1000                1000   \n",
       "Class B                1000          1000                1000   \n",
       "Class C                1000          1000                1000   \n",
       "\n",
       "         Spectral centroid  Spectral rolloff  Spectral flatness  \n",
       "Label                                                            \n",
       "Class A               1000              1000               1000  \n",
       "Class B               1000              1000               1000  \n",
       "Class C               1000              1000               1000  "
      ]
     },
     "execution_count": 12,
     "metadata": {},
     "output_type": "execute_result"
    }
   ],
   "source": [
    "df.groupby(\"Label\").count()"
   ]
  },
  {
   "cell_type": "markdown",
   "metadata": {},
   "source": [
    "### Apply a scaler and split to test and train data"
   ]
  },
  {
   "cell_type": "code",
   "execution_count": 13,
   "metadata": {},
   "outputs": [],
   "source": [
    "predictors = df.iloc[:,1:]"
   ]
  },
  {
   "cell_type": "code",
   "execution_count": 14,
   "metadata": {},
   "outputs": [
    {
     "data": {
      "text/html": [
       "<div>\n",
       "<style scoped>\n",
       "    .dataframe tbody tr th:only-of-type {\n",
       "        vertical-align: middle;\n",
       "    }\n",
       "\n",
       "    .dataframe tbody tr th {\n",
       "        vertical-align: top;\n",
       "    }\n",
       "\n",
       "    .dataframe thead th {\n",
       "        text-align: right;\n",
       "    }\n",
       "</style>\n",
       "<table border=\"1\" class=\"dataframe\">\n",
       "  <thead>\n",
       "    <tr style=\"text-align: right;\">\n",
       "      <th></th>\n",
       "      <th>Zero crossing rate</th>\n",
       "      <th>total energy</th>\n",
       "      <th>Standard deviation</th>\n",
       "      <th>Spectral centroid</th>\n",
       "      <th>Spectral rolloff</th>\n",
       "      <th>Spectral flatness</th>\n",
       "    </tr>\n",
       "  </thead>\n",
       "  <tbody>\n",
       "    <tr>\n",
       "      <th>2287</th>\n",
       "      <td>437</td>\n",
       "      <td>0.002517</td>\n",
       "      <td>0.050166</td>\n",
       "      <td>760.269449</td>\n",
       "      <td>2664.741167</td>\n",
       "      <td>0.000518</td>\n",
       "    </tr>\n",
       "    <tr>\n",
       "      <th>2753</th>\n",
       "      <td>735</td>\n",
       "      <td>0.000135</td>\n",
       "      <td>0.011620</td>\n",
       "      <td>391.283706</td>\n",
       "      <td>1433.402322</td>\n",
       "      <td>0.000315</td>\n",
       "    </tr>\n",
       "    <tr>\n",
       "      <th>3269</th>\n",
       "      <td>799</td>\n",
       "      <td>0.000099</td>\n",
       "      <td>0.009955</td>\n",
       "      <td>363.862466</td>\n",
       "      <td>1246.866276</td>\n",
       "      <td>0.000340</td>\n",
       "    </tr>\n",
       "    <tr>\n",
       "      <th>3058</th>\n",
       "      <td>561</td>\n",
       "      <td>0.000190</td>\n",
       "      <td>0.013780</td>\n",
       "      <td>425.101627</td>\n",
       "      <td>1332.719225</td>\n",
       "      <td>0.000638</td>\n",
       "    </tr>\n",
       "    <tr>\n",
       "      <th>2722</th>\n",
       "      <td>346</td>\n",
       "      <td>0.000712</td>\n",
       "      <td>0.026656</td>\n",
       "      <td>413.473178</td>\n",
       "      <td>1617.907572</td>\n",
       "      <td>0.000263</td>\n",
       "    </tr>\n",
       "    <tr>\n",
       "      <th>3022</th>\n",
       "      <td>723</td>\n",
       "      <td>0.000116</td>\n",
       "      <td>0.010766</td>\n",
       "      <td>412.210293</td>\n",
       "      <td>1457.412797</td>\n",
       "      <td>0.000325</td>\n",
       "    </tr>\n",
       "    <tr>\n",
       "      <th>2567</th>\n",
       "      <td>317</td>\n",
       "      <td>0.000363</td>\n",
       "      <td>0.019041</td>\n",
       "      <td>430.831776</td>\n",
       "      <td>1642.951077</td>\n",
       "      <td>0.000267</td>\n",
       "    </tr>\n",
       "    <tr>\n",
       "      <th>1874</th>\n",
       "      <td>1137</td>\n",
       "      <td>0.002925</td>\n",
       "      <td>0.054057</td>\n",
       "      <td>1460.904463</td>\n",
       "      <td>1454.179373</td>\n",
       "      <td>0.005673</td>\n",
       "    </tr>\n",
       "    <tr>\n",
       "      <th>4093</th>\n",
       "      <td>1577</td>\n",
       "      <td>0.001346</td>\n",
       "      <td>0.036680</td>\n",
       "      <td>1603.230814</td>\n",
       "      <td>2217.254240</td>\n",
       "      <td>0.007740</td>\n",
       "    </tr>\n",
       "    <tr>\n",
       "      <th>2861</th>\n",
       "      <td>659</td>\n",
       "      <td>0.000212</td>\n",
       "      <td>0.014556</td>\n",
       "      <td>457.659700</td>\n",
       "      <td>1530.016753</td>\n",
       "      <td>0.000318</td>\n",
       "    </tr>\n",
       "    <tr>\n",
       "      <th>2191</th>\n",
       "      <td>593</td>\n",
       "      <td>0.001171</td>\n",
       "      <td>0.034186</td>\n",
       "      <td>797.039842</td>\n",
       "      <td>2705.442740</td>\n",
       "      <td>0.000611</td>\n",
       "    </tr>\n",
       "    <tr>\n",
       "      <th>1916</th>\n",
       "      <td>1464</td>\n",
       "      <td>0.001654</td>\n",
       "      <td>0.040662</td>\n",
       "      <td>1460.904463</td>\n",
       "      <td>1454.179373</td>\n",
       "      <td>0.005673</td>\n",
       "    </tr>\n",
       "    <tr>\n",
       "      <th>4008</th>\n",
       "      <td>1274</td>\n",
       "      <td>0.001558</td>\n",
       "      <td>0.039467</td>\n",
       "      <td>1575.928615</td>\n",
       "      <td>2336.988155</td>\n",
       "      <td>0.007313</td>\n",
       "    </tr>\n",
       "    <tr>\n",
       "      <th>1590</th>\n",
       "      <td>563</td>\n",
       "      <td>0.001602</td>\n",
       "      <td>0.039961</td>\n",
       "      <td>770.663345</td>\n",
       "      <td>2656.187421</td>\n",
       "      <td>0.000586</td>\n",
       "    </tr>\n",
       "    <tr>\n",
       "      <th>1931</th>\n",
       "      <td>412</td>\n",
       "      <td>0.002901</td>\n",
       "      <td>0.053857</td>\n",
       "      <td>765.763380</td>\n",
       "      <td>2660.564050</td>\n",
       "      <td>0.000705</td>\n",
       "    </tr>\n",
       "    <tr>\n",
       "      <th>1608</th>\n",
       "      <td>474</td>\n",
       "      <td>0.001696</td>\n",
       "      <td>0.041137</td>\n",
       "      <td>770.663345</td>\n",
       "      <td>2656.187421</td>\n",
       "      <td>0.000586</td>\n",
       "    </tr>\n",
       "    <tr>\n",
       "      <th>4013</th>\n",
       "      <td>1357</td>\n",
       "      <td>0.001405</td>\n",
       "      <td>0.037481</td>\n",
       "      <td>1575.928615</td>\n",
       "      <td>2336.988155</td>\n",
       "      <td>0.007313</td>\n",
       "    </tr>\n",
       "    <tr>\n",
       "      <th>4103</th>\n",
       "      <td>1230</td>\n",
       "      <td>0.001816</td>\n",
       "      <td>0.042616</td>\n",
       "      <td>1559.565852</td>\n",
       "      <td>2279.596989</td>\n",
       "      <td>0.006453</td>\n",
       "    </tr>\n",
       "    <tr>\n",
       "      <th>3330</th>\n",
       "      <td>682</td>\n",
       "      <td>0.000132</td>\n",
       "      <td>0.011477</td>\n",
       "      <td>449.704905</td>\n",
       "      <td>1557.202824</td>\n",
       "      <td>0.001015</td>\n",
       "    </tr>\n",
       "    <tr>\n",
       "      <th>2583</th>\n",
       "      <td>358</td>\n",
       "      <td>0.000745</td>\n",
       "      <td>0.027286</td>\n",
       "      <td>430.831776</td>\n",
       "      <td>1642.951077</td>\n",
       "      <td>0.000267</td>\n",
       "    </tr>\n",
       "    <tr>\n",
       "      <th>3170</th>\n",
       "      <td>504</td>\n",
       "      <td>0.000256</td>\n",
       "      <td>0.015998</td>\n",
       "      <td>477.858405</td>\n",
       "      <td>1597.883380</td>\n",
       "      <td>0.000841</td>\n",
       "    </tr>\n",
       "    <tr>\n",
       "      <th>2143</th>\n",
       "      <td>1256</td>\n",
       "      <td>0.002020</td>\n",
       "      <td>0.044888</td>\n",
       "      <td>1525.414158</td>\n",
       "      <td>1426.523419</td>\n",
       "      <td>0.007151</td>\n",
       "    </tr>\n",
       "    <tr>\n",
       "      <th>1974</th>\n",
       "      <td>606</td>\n",
       "      <td>0.001628</td>\n",
       "      <td>0.040299</td>\n",
       "      <td>765.763380</td>\n",
       "      <td>2660.564050</td>\n",
       "      <td>0.000705</td>\n",
       "    </tr>\n",
       "    <tr>\n",
       "      <th>1908</th>\n",
       "      <td>1305</td>\n",
       "      <td>0.002451</td>\n",
       "      <td>0.049503</td>\n",
       "      <td>1460.904463</td>\n",
       "      <td>1454.179373</td>\n",
       "      <td>0.005673</td>\n",
       "    </tr>\n",
       "    <tr>\n",
       "      <th>3095</th>\n",
       "      <td>1255</td>\n",
       "      <td>0.000309</td>\n",
       "      <td>0.017589</td>\n",
       "      <td>446.995175</td>\n",
       "      <td>1498.164691</td>\n",
       "      <td>0.001142</td>\n",
       "    </tr>\n",
       "    <tr>\n",
       "      <th>2021</th>\n",
       "      <td>2008</td>\n",
       "      <td>0.001950</td>\n",
       "      <td>0.044148</td>\n",
       "      <td>1540.865118</td>\n",
       "      <td>1991.364032</td>\n",
       "      <td>0.006114</td>\n",
       "    </tr>\n",
       "    <tr>\n",
       "      <th>1721</th>\n",
       "      <td>1067</td>\n",
       "      <td>0.002624</td>\n",
       "      <td>0.051131</td>\n",
       "      <td>1501.274010</td>\n",
       "      <td>1648.431776</td>\n",
       "      <td>0.005028</td>\n",
       "    </tr>\n",
       "    <tr>\n",
       "      <th>2154</th>\n",
       "      <td>713</td>\n",
       "      <td>0.001595</td>\n",
       "      <td>0.039939</td>\n",
       "      <td>797.039842</td>\n",
       "      <td>2705.442740</td>\n",
       "      <td>0.000611</td>\n",
       "    </tr>\n",
       "    <tr>\n",
       "      <th>2473</th>\n",
       "      <td>255</td>\n",
       "      <td>0.000785</td>\n",
       "      <td>0.028018</td>\n",
       "      <td>464.748973</td>\n",
       "      <td>1771.965984</td>\n",
       "      <td>0.000269</td>\n",
       "    </tr>\n",
       "    <tr>\n",
       "      <th>2117</th>\n",
       "      <td>1600</td>\n",
       "      <td>0.001700</td>\n",
       "      <td>0.041185</td>\n",
       "      <td>1525.414158</td>\n",
       "      <td>1426.523419</td>\n",
       "      <td>0.007151</td>\n",
       "    </tr>\n",
       "    <tr>\n",
       "      <th>...</th>\n",
       "      <td>...</td>\n",
       "      <td>...</td>\n",
       "      <td>...</td>\n",
       "      <td>...</td>\n",
       "      <td>...</td>\n",
       "      <td>...</td>\n",
       "    </tr>\n",
       "    <tr>\n",
       "      <th>87</th>\n",
       "      <td>366</td>\n",
       "      <td>0.024923</td>\n",
       "      <td>0.157844</td>\n",
       "      <td>808.884003</td>\n",
       "      <td>2700.604339</td>\n",
       "      <td>0.001096</td>\n",
       "    </tr>\n",
       "    <tr>\n",
       "      <th>3391</th>\n",
       "      <td>1171</td>\n",
       "      <td>0.002069</td>\n",
       "      <td>0.045483</td>\n",
       "      <td>1596.212273</td>\n",
       "      <td>2270.038685</td>\n",
       "      <td>0.007932</td>\n",
       "    </tr>\n",
       "    <tr>\n",
       "      <th>143</th>\n",
       "      <td>355</td>\n",
       "      <td>0.001579</td>\n",
       "      <td>0.039732</td>\n",
       "      <td>391.716373</td>\n",
       "      <td>1440.725455</td>\n",
       "      <td>0.000257</td>\n",
       "    </tr>\n",
       "    <tr>\n",
       "      <th>195</th>\n",
       "      <td>446</td>\n",
       "      <td>0.001507</td>\n",
       "      <td>0.038813</td>\n",
       "      <td>419.147902</td>\n",
       "      <td>1528.719658</td>\n",
       "      <td>0.000303</td>\n",
       "    </tr>\n",
       "    <tr>\n",
       "      <th>48</th>\n",
       "      <td>439</td>\n",
       "      <td>0.000474</td>\n",
       "      <td>0.021780</td>\n",
       "      <td>403.662410</td>\n",
       "      <td>1514.841741</td>\n",
       "      <td>0.000269</td>\n",
       "    </tr>\n",
       "    <tr>\n",
       "      <th>123</th>\n",
       "      <td>366</td>\n",
       "      <td>0.010529</td>\n",
       "      <td>0.102596</td>\n",
       "      <td>787.357532</td>\n",
       "      <td>2552.410419</td>\n",
       "      <td>0.000482</td>\n",
       "    </tr>\n",
       "    <tr>\n",
       "      <th>373</th>\n",
       "      <td>511</td>\n",
       "      <td>0.000359</td>\n",
       "      <td>0.018941</td>\n",
       "      <td>446.995175</td>\n",
       "      <td>1498.164691</td>\n",
       "      <td>0.001142</td>\n",
       "    </tr>\n",
       "    <tr>\n",
       "      <th>3551</th>\n",
       "      <td>742</td>\n",
       "      <td>0.017019</td>\n",
       "      <td>0.130455</td>\n",
       "      <td>1570.262314</td>\n",
       "      <td>2381.426103</td>\n",
       "      <td>0.006532</td>\n",
       "    </tr>\n",
       "    <tr>\n",
       "      <th>217</th>\n",
       "      <td>464</td>\n",
       "      <td>0.001020</td>\n",
       "      <td>0.031937</td>\n",
       "      <td>486.396651</td>\n",
       "      <td>1607.390714</td>\n",
       "      <td>0.000336</td>\n",
       "    </tr>\n",
       "    <tr>\n",
       "      <th>331</th>\n",
       "      <td>527</td>\n",
       "      <td>0.000210</td>\n",
       "      <td>0.014486</td>\n",
       "      <td>433.734398</td>\n",
       "      <td>1512.247317</td>\n",
       "      <td>0.001363</td>\n",
       "    </tr>\n",
       "    <tr>\n",
       "      <th>3462</th>\n",
       "      <td>504</td>\n",
       "      <td>0.018962</td>\n",
       "      <td>0.137697</td>\n",
       "      <td>1536.415766</td>\n",
       "      <td>2303.835135</td>\n",
       "      <td>0.005647</td>\n",
       "    </tr>\n",
       "    <tr>\n",
       "      <th>381</th>\n",
       "      <td>347</td>\n",
       "      <td>0.003632</td>\n",
       "      <td>0.060270</td>\n",
       "      <td>388.342038</td>\n",
       "      <td>1379.402424</td>\n",
       "      <td>0.000304</td>\n",
       "    </tr>\n",
       "    <tr>\n",
       "      <th>1</th>\n",
       "      <td>352</td>\n",
       "      <td>0.002458</td>\n",
       "      <td>0.049574</td>\n",
       "      <td>408.946254</td>\n",
       "      <td>1503.320626</td>\n",
       "      <td>0.000274</td>\n",
       "    </tr>\n",
       "    <tr>\n",
       "      <th>3612</th>\n",
       "      <td>482</td>\n",
       "      <td>0.011704</td>\n",
       "      <td>0.108159</td>\n",
       "      <td>1615.729088</td>\n",
       "      <td>2252.700045</td>\n",
       "      <td>0.006978</td>\n",
       "    </tr>\n",
       "    <tr>\n",
       "      <th>483</th>\n",
       "      <td>317</td>\n",
       "      <td>0.020971</td>\n",
       "      <td>0.144814</td>\n",
       "      <td>738.265947</td>\n",
       "      <td>2595.828332</td>\n",
       "      <td>0.000933</td>\n",
       "    </tr>\n",
       "    <tr>\n",
       "      <th>353</th>\n",
       "      <td>619</td>\n",
       "      <td>0.000256</td>\n",
       "      <td>0.015972</td>\n",
       "      <td>446.995175</td>\n",
       "      <td>1498.164691</td>\n",
       "      <td>0.001142</td>\n",
       "    </tr>\n",
       "    <tr>\n",
       "      <th>251</th>\n",
       "      <td>406</td>\n",
       "      <td>0.000806</td>\n",
       "      <td>0.028384</td>\n",
       "      <td>382.806462</td>\n",
       "      <td>1423.617621</td>\n",
       "      <td>0.000264</td>\n",
       "    </tr>\n",
       "    <tr>\n",
       "      <th>175</th>\n",
       "      <td>395</td>\n",
       "      <td>0.000630</td>\n",
       "      <td>0.025095</td>\n",
       "      <td>413.794033</td>\n",
       "      <td>1484.429044</td>\n",
       "      <td>0.000292</td>\n",
       "    </tr>\n",
       "    <tr>\n",
       "      <th>255</th>\n",
       "      <td>409</td>\n",
       "      <td>0.000991</td>\n",
       "      <td>0.031468</td>\n",
       "      <td>382.806462</td>\n",
       "      <td>1423.617621</td>\n",
       "      <td>0.000264</td>\n",
       "    </tr>\n",
       "    <tr>\n",
       "      <th>338</th>\n",
       "      <td>338</td>\n",
       "      <td>0.004033</td>\n",
       "      <td>0.063505</td>\n",
       "      <td>380.614358</td>\n",
       "      <td>1397.334494</td>\n",
       "      <td>0.000358</td>\n",
       "    </tr>\n",
       "    <tr>\n",
       "      <th>260</th>\n",
       "      <td>368</td>\n",
       "      <td>0.001444</td>\n",
       "      <td>0.037992</td>\n",
       "      <td>457.659700</td>\n",
       "      <td>1530.016753</td>\n",
       "      <td>0.000318</td>\n",
       "    </tr>\n",
       "    <tr>\n",
       "      <th>50</th>\n",
       "      <td>281</td>\n",
       "      <td>0.000598</td>\n",
       "      <td>0.024396</td>\n",
       "      <td>413.473178</td>\n",
       "      <td>1617.907572</td>\n",
       "      <td>0.000263</td>\n",
       "    </tr>\n",
       "    <tr>\n",
       "      <th>3540</th>\n",
       "      <td>338</td>\n",
       "      <td>0.017568</td>\n",
       "      <td>0.132543</td>\n",
       "      <td>885.483681</td>\n",
       "      <td>2737.953120</td>\n",
       "      <td>0.001527</td>\n",
       "    </tr>\n",
       "    <tr>\n",
       "      <th>533</th>\n",
       "      <td>553</td>\n",
       "      <td>0.024488</td>\n",
       "      <td>0.156487</td>\n",
       "      <td>1536.707940</td>\n",
       "      <td>2057.231322</td>\n",
       "      <td>0.006477</td>\n",
       "    </tr>\n",
       "    <tr>\n",
       "      <th>3595</th>\n",
       "      <td>664</td>\n",
       "      <td>0.010901</td>\n",
       "      <td>0.104407</td>\n",
       "      <td>1543.519704</td>\n",
       "      <td>2191.198202</td>\n",
       "      <td>0.006544</td>\n",
       "    </tr>\n",
       "    <tr>\n",
       "      <th>3760</th>\n",
       "      <td>902</td>\n",
       "      <td>0.001337</td>\n",
       "      <td>0.036558</td>\n",
       "      <td>923.439993</td>\n",
       "      <td>2848.888208</td>\n",
       "      <td>0.000676</td>\n",
       "    </tr>\n",
       "    <tr>\n",
       "      <th>3757</th>\n",
       "      <td>421</td>\n",
       "      <td>0.010639</td>\n",
       "      <td>0.103144</td>\n",
       "      <td>834.363624</td>\n",
       "      <td>2633.819245</td>\n",
       "      <td>0.001428</td>\n",
       "    </tr>\n",
       "    <tr>\n",
       "      <th>187</th>\n",
       "      <td>434</td>\n",
       "      <td>0.001301</td>\n",
       "      <td>0.036062</td>\n",
       "      <td>358.880837</td>\n",
       "      <td>1330.284969</td>\n",
       "      <td>0.000265</td>\n",
       "    </tr>\n",
       "    <tr>\n",
       "      <th>3723</th>\n",
       "      <td>529</td>\n",
       "      <td>0.008130</td>\n",
       "      <td>0.090168</td>\n",
       "      <td>1575.445152</td>\n",
       "      <td>2116.237529</td>\n",
       "      <td>0.007665</td>\n",
       "    </tr>\n",
       "    <tr>\n",
       "      <th>3415</th>\n",
       "      <td>310</td>\n",
       "      <td>0.009960</td>\n",
       "      <td>0.099800</td>\n",
       "      <td>919.769232</td>\n",
       "      <td>2822.961948</td>\n",
       "      <td>0.001613</td>\n",
       "    </tr>\n",
       "  </tbody>\n",
       "</table>\n",
       "<p>3000 rows × 6 columns</p>\n",
       "</div>"
      ],
      "text/plain": [
       "      Zero crossing rate  total energy  Standard deviation  Spectral centroid  \\\n",
       "2287                 437      0.002517            0.050166         760.269449   \n",
       "2753                 735      0.000135            0.011620         391.283706   \n",
       "3269                 799      0.000099            0.009955         363.862466   \n",
       "3058                 561      0.000190            0.013780         425.101627   \n",
       "2722                 346      0.000712            0.026656         413.473178   \n",
       "3022                 723      0.000116            0.010766         412.210293   \n",
       "2567                 317      0.000363            0.019041         430.831776   \n",
       "1874                1137      0.002925            0.054057        1460.904463   \n",
       "4093                1577      0.001346            0.036680        1603.230814   \n",
       "2861                 659      0.000212            0.014556         457.659700   \n",
       "2191                 593      0.001171            0.034186         797.039842   \n",
       "1916                1464      0.001654            0.040662        1460.904463   \n",
       "4008                1274      0.001558            0.039467        1575.928615   \n",
       "1590                 563      0.001602            0.039961         770.663345   \n",
       "1931                 412      0.002901            0.053857         765.763380   \n",
       "1608                 474      0.001696            0.041137         770.663345   \n",
       "4013                1357      0.001405            0.037481        1575.928615   \n",
       "4103                1230      0.001816            0.042616        1559.565852   \n",
       "3330                 682      0.000132            0.011477         449.704905   \n",
       "2583                 358      0.000745            0.027286         430.831776   \n",
       "3170                 504      0.000256            0.015998         477.858405   \n",
       "2143                1256      0.002020            0.044888        1525.414158   \n",
       "1974                 606      0.001628            0.040299         765.763380   \n",
       "1908                1305      0.002451            0.049503        1460.904463   \n",
       "3095                1255      0.000309            0.017589         446.995175   \n",
       "2021                2008      0.001950            0.044148        1540.865118   \n",
       "1721                1067      0.002624            0.051131        1501.274010   \n",
       "2154                 713      0.001595            0.039939         797.039842   \n",
       "2473                 255      0.000785            0.028018         464.748973   \n",
       "2117                1600      0.001700            0.041185        1525.414158   \n",
       "...                  ...           ...                 ...                ...   \n",
       "87                   366      0.024923            0.157844         808.884003   \n",
       "3391                1171      0.002069            0.045483        1596.212273   \n",
       "143                  355      0.001579            0.039732         391.716373   \n",
       "195                  446      0.001507            0.038813         419.147902   \n",
       "48                   439      0.000474            0.021780         403.662410   \n",
       "123                  366      0.010529            0.102596         787.357532   \n",
       "373                  511      0.000359            0.018941         446.995175   \n",
       "3551                 742      0.017019            0.130455        1570.262314   \n",
       "217                  464      0.001020            0.031937         486.396651   \n",
       "331                  527      0.000210            0.014486         433.734398   \n",
       "3462                 504      0.018962            0.137697        1536.415766   \n",
       "381                  347      0.003632            0.060270         388.342038   \n",
       "1                    352      0.002458            0.049574         408.946254   \n",
       "3612                 482      0.011704            0.108159        1615.729088   \n",
       "483                  317      0.020971            0.144814         738.265947   \n",
       "353                  619      0.000256            0.015972         446.995175   \n",
       "251                  406      0.000806            0.028384         382.806462   \n",
       "175                  395      0.000630            0.025095         413.794033   \n",
       "255                  409      0.000991            0.031468         382.806462   \n",
       "338                  338      0.004033            0.063505         380.614358   \n",
       "260                  368      0.001444            0.037992         457.659700   \n",
       "50                   281      0.000598            0.024396         413.473178   \n",
       "3540                 338      0.017568            0.132543         885.483681   \n",
       "533                  553      0.024488            0.156487        1536.707940   \n",
       "3595                 664      0.010901            0.104407        1543.519704   \n",
       "3760                 902      0.001337            0.036558         923.439993   \n",
       "3757                 421      0.010639            0.103144         834.363624   \n",
       "187                  434      0.001301            0.036062         358.880837   \n",
       "3723                 529      0.008130            0.090168        1575.445152   \n",
       "3415                 310      0.009960            0.099800         919.769232   \n",
       "\n",
       "      Spectral rolloff  Spectral flatness  \n",
       "2287       2664.741167           0.000518  \n",
       "2753       1433.402322           0.000315  \n",
       "3269       1246.866276           0.000340  \n",
       "3058       1332.719225           0.000638  \n",
       "2722       1617.907572           0.000263  \n",
       "3022       1457.412797           0.000325  \n",
       "2567       1642.951077           0.000267  \n",
       "1874       1454.179373           0.005673  \n",
       "4093       2217.254240           0.007740  \n",
       "2861       1530.016753           0.000318  \n",
       "2191       2705.442740           0.000611  \n",
       "1916       1454.179373           0.005673  \n",
       "4008       2336.988155           0.007313  \n",
       "1590       2656.187421           0.000586  \n",
       "1931       2660.564050           0.000705  \n",
       "1608       2656.187421           0.000586  \n",
       "4013       2336.988155           0.007313  \n",
       "4103       2279.596989           0.006453  \n",
       "3330       1557.202824           0.001015  \n",
       "2583       1642.951077           0.000267  \n",
       "3170       1597.883380           0.000841  \n",
       "2143       1426.523419           0.007151  \n",
       "1974       2660.564050           0.000705  \n",
       "1908       1454.179373           0.005673  \n",
       "3095       1498.164691           0.001142  \n",
       "2021       1991.364032           0.006114  \n",
       "1721       1648.431776           0.005028  \n",
       "2154       2705.442740           0.000611  \n",
       "2473       1771.965984           0.000269  \n",
       "2117       1426.523419           0.007151  \n",
       "...                ...                ...  \n",
       "87         2700.604339           0.001096  \n",
       "3391       2270.038685           0.007932  \n",
       "143        1440.725455           0.000257  \n",
       "195        1528.719658           0.000303  \n",
       "48         1514.841741           0.000269  \n",
       "123        2552.410419           0.000482  \n",
       "373        1498.164691           0.001142  \n",
       "3551       2381.426103           0.006532  \n",
       "217        1607.390714           0.000336  \n",
       "331        1512.247317           0.001363  \n",
       "3462       2303.835135           0.005647  \n",
       "381        1379.402424           0.000304  \n",
       "1          1503.320626           0.000274  \n",
       "3612       2252.700045           0.006978  \n",
       "483        2595.828332           0.000933  \n",
       "353        1498.164691           0.001142  \n",
       "251        1423.617621           0.000264  \n",
       "175        1484.429044           0.000292  \n",
       "255        1423.617621           0.000264  \n",
       "338        1397.334494           0.000358  \n",
       "260        1530.016753           0.000318  \n",
       "50         1617.907572           0.000263  \n",
       "3540       2737.953120           0.001527  \n",
       "533        2057.231322           0.006477  \n",
       "3595       2191.198202           0.006544  \n",
       "3760       2848.888208           0.000676  \n",
       "3757       2633.819245           0.001428  \n",
       "187        1330.284969           0.000265  \n",
       "3723       2116.237529           0.007665  \n",
       "3415       2822.961948           0.001613  \n",
       "\n",
       "[3000 rows x 6 columns]"
      ]
     },
     "execution_count": 14,
     "metadata": {},
     "output_type": "execute_result"
    }
   ],
   "source": [
    "predictors"
   ]
  },
  {
   "cell_type": "code",
   "execution_count": 15,
   "metadata": {},
   "outputs": [
    {
     "name": "stderr",
     "output_type": "stream",
     "text": [
      "/opt/miniconda3/envs/Anaconda-Python3.6/lib/python3.6/site-packages/sklearn/preprocessing/data.py:645: DataConversionWarning: Data with input dtype int64, float64 were all converted to float64 by StandardScaler.\n",
      "  return self.partial_fit(X, y)\n"
     ]
    },
    {
     "data": {
      "text/plain": [
       "StandardScaler(copy=True, with_mean=True, with_std=True)"
      ]
     },
     "execution_count": 15,
     "metadata": {},
     "output_type": "execute_result"
    }
   ],
   "source": [
    "transformer = StandardScaler().fit(predictors)\n",
    "transformer"
   ]
  },
  {
   "cell_type": "code",
   "execution_count": 16,
   "metadata": {},
   "outputs": [
    {
     "name": "stderr",
     "output_type": "stream",
     "text": [
      "/opt/miniconda3/envs/Anaconda-Python3.6/lib/python3.6/site-packages/ipykernel_launcher.py:1: DataConversionWarning: Data with input dtype int64, float64 were all converted to float64 by StandardScaler.\n",
      "  \"\"\"Entry point for launching an IPython kernel.\n"
     ]
    }
   ],
   "source": [
    "predictors = transformer.transform(predictors)"
   ]
  },
  {
   "cell_type": "code",
   "execution_count": 17,
   "metadata": {},
   "outputs": [],
   "source": [
    "X_train, X_test, y_train, y_test = train_test_split(\n",
    "predictors, df[\"Label\"]) #, random_state=0)"
   ]
  },
  {
   "cell_type": "markdown",
   "metadata": {},
   "source": [
    "### Simple k-neighbors"
   ]
  },
  {
   "cell_type": "code",
   "execution_count": 18,
   "metadata": {},
   "outputs": [
    {
     "name": "stdout",
     "output_type": "stream",
     "text": [
      "Test set score: 0.77\n"
     ]
    }
   ],
   "source": [
    "knn = KNeighborsClassifier(n_neighbors=10)\n",
    "knn.fit(X_train, y_train)\n",
    "print(\"Test set score: {:.2f}\".format(knn.score(X_test, y_test)))"
   ]
  },
  {
   "cell_type": "code",
   "execution_count": 19,
   "metadata": {},
   "outputs": [
    {
     "name": "stdout",
     "output_type": "stream",
     "text": [
      "Normalized confusion matrix\n"
     ]
    },
    {
     "data": {
      "text/plain": [
       "<matplotlib.axes._subplots.AxesSubplot at 0x7f7f5946f668>"
      ]
     },
     "execution_count": 19,
     "metadata": {},
     "output_type": "execute_result"
    },
    {
     "data": {
      "image/png": "[encoded data removed]",
      "text/plain": [
       "<Figure size 720x720 with 2 Axes>"
      ]
     },
     "metadata": {
      "needs_background": "light"
     },
     "output_type": "display_data"
    }
   ],
   "source": [
    "y_pred = knn.predict(X_test)\n",
    "# Plot normalized confusion matrix\n",
    "plot_confusion_matrix(y_test, y_pred, classes=classes, normalize=True,\n",
    "                      title='Normalized confusion matrix')"
   ]
  },
  {
   "cell_type": "markdown",
   "metadata": {},
   "source": [
    "#### Grid search to find a good value for N"
   ]
  },
  {
   "cell_type": "code",
   "execution_count": 20,
   "metadata": {},
   "outputs": [
    {
     "name": "stdout",
     "output_type": "stream",
     "text": [
      "Best score: 0.81\n",
      "Best parameters: {'N': 1}\n"
     ]
    }
   ],
   "source": [
    "#%%time\n",
    "\n",
    "best_score = 0\n",
    "best_knn = None\n",
    "\n",
    "for n in range(1,20,1):\n",
    "    knn = KNeighborsClassifier(n_neighbors=n)\n",
    "    knn.fit(X_train, y_train)\n",
    "   \n",
    "    score = knn.score(X_test, y_test)\n",
    "  \n",
    "    if score > best_score:\n",
    "        best_score = score\n",
    "        best_parameters = {'N': n}\n",
    "        best_knn = knn\n",
    "\n",
    "print(\"Best score: {:.2f}\".format(best_score))\n",
    "print(\"Best parameters: {}\".format(best_parameters))"
   ]
  },
  {
   "cell_type": "code",
   "execution_count": 21,
   "metadata": {},
   "outputs": [
    {
     "name": "stdout",
     "output_type": "stream",
     "text": [
      "Normalized confusion matrix\n"
     ]
    },
    {
     "data": {
      "text/plain": [
       "<matplotlib.axes._subplots.AxesSubplot at 0x7f7f581336d8>"
      ]
     },
     "execution_count": 21,
     "metadata": {},
     "output_type": "execute_result"
    },
    {
     "data": {
      "image/png": "[encoded data removed]",
      "text/plain": [
       "<Figure size 720x720 with 2 Axes>"
      ]
     },
     "metadata": {
      "needs_background": "light"
     },
     "output_type": "display_data"
    }
   ],
   "source": [
    "y_pred = best_knn.predict(X_test)\n",
    "# Plot normalized confusion matrix\n",
    "plot_confusion_matrix(y_test, y_pred, classes=classes, normalize=True,\n",
    "                      title='Normalized confusion matrix')"
   ]
  },
  {
   "cell_type": "markdown",
   "metadata": {},
   "source": [
    "### Decision tree"
   ]
  },
  {
   "cell_type": "code",
   "execution_count": 22,
   "metadata": {},
   "outputs": [
    {
     "name": "stdout",
     "output_type": "stream",
     "text": [
      "Best score: 0.85\n",
      "Best parameters: {'N': 19}\n"
     ]
    }
   ],
   "source": [
    "#%%time\n",
    "\n",
    "best_score = 0\n",
    "best_tree = None\n",
    "\n",
    "for n in range(1,30,3):\n",
    "    tree = DecisionTreeClassifier(max_depth=n, random_state=0)\n",
    "    tree.fit(X_train, y_train)\n",
    "   \n",
    "    score = tree.score(X_test, y_test)\n",
    "  \n",
    "    if score > best_score:\n",
    "        best_score = score\n",
    "        best_parameters = {'N': n}\n",
    "        best_tree = tree\n",
    "\n",
    "print(\"Best score: {:.2f}\".format(best_score))\n",
    "print(\"Best parameters: {}\".format(best_parameters))"
   ]
  },
  {
   "cell_type": "code",
   "execution_count": 23,
   "metadata": {},
   "outputs": [
    {
     "name": "stdout",
     "output_type": "stream",
     "text": [
      "Normalized confusion matrix\n"
     ]
    },
    {
     "data": {
      "text/plain": [
       "<matplotlib.axes._subplots.AxesSubplot at 0x7f7f5805fb38>"
      ]
     },
     "execution_count": 23,
     "metadata": {},
     "output_type": "execute_result"
    },
    {
     "data": {
      "image/png": "[encoded data removed]",
      "text/plain": [
       "<Figure size 720x720 with 2 Axes>"
      ]
     },
     "metadata": {
      "needs_background": "light"
     },
     "output_type": "display_data"
    }
   ],
   "source": [
    "y_pred = best_tree.predict(X_test)\n",
    "# Plot normalized confusion matrix\n",
    "plot_confusion_matrix(y_test, y_pred, classes=classes, normalize=True,\n",
    "                      title='Normalized confusion matrix')"
   ]
  },
  {
   "cell_type": "markdown",
   "metadata": {},
   "source": [
    "### Random Forest"
   ]
  },
  {
   "cell_type": "code",
   "execution_count": 24,
   "metadata": {},
   "outputs": [
    {
     "name": "stdout",
     "output_type": "stream",
     "text": [
      "Accuracy on training set: 0.993\n",
      "Accuracy on test set: 0.860\n"
     ]
    }
   ],
   "source": [
    "#%%time\n",
    "\n",
    "rf = RandomForestClassifier(random_state=0)\n",
    "rf.fit(X_train, y_train)\n",
    "print(\"Accuracy on training set: {:.3f}\".format(rf.score(X_train, y_train)))\n",
    "print(\"Accuracy on test set: {:.3f}\".format(rf.score(X_test, y_test)))"
   ]
  },
  {
   "cell_type": "code",
   "execution_count": 25,
   "metadata": {},
   "outputs": [
    {
     "name": "stdout",
     "output_type": "stream",
     "text": [
      "Normalized confusion matrix\n"
     ]
    },
    {
     "data": {
      "text/plain": [
       "<matplotlib.axes._subplots.AxesSubplot at 0x7f7f507477b8>"
      ]
     },
     "execution_count": 25,
     "metadata": {},
     "output_type": "execute_result"
    },
    {
     "data": {
      "image/png": "[encoded data removed]",
      "text/plain": [
       "<Figure size 720x720 with 2 Axes>"
      ]
     },
     "metadata": {
      "needs_background": "light"
     },
     "output_type": "display_data"
    }
   ],
   "source": [
    "y_pred = rf.predict(X_test)\n",
    "# Plot normalized confusion matrix\n",
    "plot_confusion_matrix(y_test, y_pred, classes=classes, normalize=True,\n",
    "                      title='Normalized confusion matrix')"
   ]
  },
  {
   "cell_type": "code",
   "execution_count": 26,
   "metadata": {},
   "outputs": [
    {
     "name": "stdout",
     "output_type": "stream",
     "text": [
      "Best score: 0.88\n",
      "Best parameters: {'N': 19}\n"
     ]
    }
   ],
   "source": [
    "#%%time\n",
    "\n",
    "best_score = 0\n",
    "best_rf = None\n",
    "\n",
    "for n in range(1,30,1):\n",
    "    rf = RandomForestClassifier(max_depth=n, random_state=0)\n",
    "    rf.fit(X_train, y_train)\n",
    "   \n",
    "    score = rf.score(X_test, y_test)\n",
    "  \n",
    "    if score > best_score:\n",
    "        best_score = score\n",
    "        best_parameters = {'N': n}\n",
    "        best_rf = rf\n",
    "\n",
    "print(\"Best score: {:.2f}\".format(best_score))\n",
    "print(\"Best parameters: {}\".format(best_parameters))"
   ]
  },
  {
   "cell_type": "code",
   "execution_count": 27,
   "metadata": {},
   "outputs": [
    {
     "name": "stdout",
     "output_type": "stream",
     "text": [
      "Normalized confusion matrix\n"
     ]
    },
    {
     "data": {
      "text/plain": [
       "<matplotlib.axes._subplots.AxesSubplot at 0x7f7f506e9e80>"
      ]
     },
     "execution_count": 27,
     "metadata": {},
     "output_type": "execute_result"
    },
    {
     "data": {
      "image/png": "[encoded data removed]",
      "text/plain": [
       "<Figure size 720x720 with 2 Axes>"
      ]
     },
     "metadata": {
      "needs_background": "light"
     },
     "output_type": "display_data"
    }
   ],
   "source": [
    "y_pred = best_rf.predict(X_test)\n",
    "# Plot normalized confusion matrix\n",
    "plot_confusion_matrix(y_test, y_pred, classes=classes, normalize=True,\n",
    "                      title='Normalized confusion matrix')"
   ]
  },
  {
   "cell_type": "markdown",
   "metadata": {},
   "source": [
    "### Supported vector machine"
   ]
  },
  {
   "cell_type": "markdown",
   "metadata": {},
   "source": [
    "TODO"
   ]
  },
  {
   "cell_type": "markdown",
   "metadata": {},
   "source": [
    "### Multi layer perceptron"
   ]
  },
  {
   "cell_type": "code",
   "execution_count": 28,
   "metadata": {},
   "outputs": [
    {
     "data": {
      "text/plain": [
       "MLPClassifier(activation='relu', alpha=1e-05, batch_size='auto', beta_1=0.9,\n",
       "       beta_2=0.999, early_stopping=False, epsilon=1e-08,\n",
       "       hidden_layer_sizes=(5, 2), learning_rate='constant',\n",
       "       learning_rate_init=0.001, max_iter=200, momentum=0.9,\n",
       "       n_iter_no_change=10, nesterovs_momentum=True, power_t=0.5,\n",
       "       random_state=None, shuffle=True, solver='lbfgs', tol=0.0001,\n",
       "       validation_fraction=0.1, verbose=False, warm_start=False)"
      ]
     },
     "execution_count": 28,
     "metadata": {},
     "output_type": "execute_result"
    }
   ],
   "source": [
    "mlp = MLPClassifier(solver='lbfgs',alpha=1e-5,hidden_layer_sizes=(5,2))\n",
    "\n",
    "mlp.fit(X_train,y_train)"
   ]
  },
  {
   "cell_type": "code",
   "execution_count": 29,
   "metadata": {},
   "outputs": [
    {
     "data": {
      "text/plain": [
       "0.7106666666666667"
      ]
     },
     "execution_count": 29,
     "metadata": {},
     "output_type": "execute_result"
    }
   ],
   "source": [
    "mlp.score(X_test,y_test)"
   ]
  },
  {
   "cell_type": "code",
   "execution_count": 32,
   "metadata": {},
   "outputs": [
    {
     "name": "stdout",
     "output_type": "stream",
     "text": [
      "Normalized confusion matrix\n"
     ]
    },
    {
     "data": {
      "text/plain": [
       "<matplotlib.axes._subplots.AxesSubplot at 0x7f7f504dd940>"
      ]
     },
     "execution_count": 32,
     "metadata": {},
     "output_type": "execute_result"
    },
    {
     "data": {
      "image/png": "[encoded data removed]",
      "text/plain": [
       "<Figure size 720x720 with 2 Axes>"
      ]
     },
     "metadata": {
      "needs_background": "light"
     },
     "output_type": "display_data"
    }
   ],
   "source": [
    "y_pred = mlp.predict(X_test)\n",
    "# Plot normalized confusion matrix\n",
    "plot_confusion_matrix(y_test, y_pred, classes=classes, normalize=True,\n",
    "                      title='Normalized confusion matrix')"
   ]
  },
  {
   "cell_type": "code",
   "execution_count": null,
   "metadata": {},
   "outputs": [],
   "source": []
  }
 ],
 "metadata": {
  "kernelspec": {
   "display_name": "Python [conda env:Anaconda-Python3.6]",
   "language": "python",
   "name": "conda-env-Anaconda-Python3.6-py"
  },
  "language_info": {
   "codemirror_mode": {
    "name": "ipython",
    "version": 3
   },
   "file_extension": ".py",
   "mimetype": "text/x-python",
   "name": "python",
   "nbconvert_exporter": "python",
   "pygments_lexer": "ipython3",
   "version": "3.6.8"
  }
 },
 "nbformat": 4,
 "nbformat_minor": 2
}
