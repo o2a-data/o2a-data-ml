{
 "cells": [
  {
   "cell_type": "markdown",
   "metadata": {},
   "source": [
    "# Image preprocessing\n",
    "\n",
    "- Cropping images\n",
    "- Center images\n"
   ]
  },
  {
   "cell_type": "markdown",
   "metadata": {},
   "source": [
    "<div class=\"alert alert-block alert-info\">\n",
    "<b>Attention:</b> The following variables must be edited.\n",
    "\n",
    "- __imgDir__ contains all original images.\n",
    "- __destImgDir__ is a folder in which all preprocessed images are saved at the end.\n",
    "- __cropImageTolerance__ specifies the pixel tolerance to be taken into account when cropping the images.\n",
    "\n",
    "\n",
    "</div>"
   ]
  },
  {
   "cell_type": "code",
   "execution_count": null,
   "metadata": {},
   "outputs": [],
   "source": [
    "# Set the path to the root folder containing the training data.\n",
    "# If you want to have access to the data please contact ...\n",
    "basePath = ''\n",
    "\n",
    "imgDir     = basePath + 'Trainingsdatensatz_Klassengroesse/'\n",
    "destImgDir = basePath + 'Trainingsdatensatz_preprocessed/'\n",
    "\n",
    "cropImageTolerance = 245"
   ]
  },
  {
   "cell_type": "code",
   "execution_count": null,
   "metadata": {},
   "outputs": [],
   "source": [
    "from PIL import Image\n",
    "import glob\n",
    "import math\n",
    "import matplotlib.pyplot as plt\n",
    "import matplotlib.image as mpimg\n",
    "from skimage import io\n",
    "import numpy as np\n",
    "import ntpath"
   ]
  },
  {
   "cell_type": "code",
   "execution_count": null,
   "metadata": {},
   "outputs": [],
   "source": [
    "def show_images_unscaled(img):\n",
    "    cols = 5\n",
    "    rows = math.ceil(len(img)/ 5) # Anzahl der Bilder durch 5; Aufgerundet\n",
    "    \n",
    "    fix, axes = plt.subplots(rows, cols, figsize=(1 + 3 * cols, 3 * rows), subplot_kw={'xticks': (), 'yticks': ()})\n",
    "    for image, ax in zip(img, axes.ravel()):\n",
    "        ax.imshow(image, cmap=plt.get_cmap('gray'))"
   ]
  },
  {
   "cell_type": "code",
   "execution_count": null,
   "metadata": {},
   "outputs": [],
   "source": [
    "def maxHeight(images):\n",
    "    maxHeight=(0,0)\n",
    "    for img in images:\n",
    "        if img.shape[0] > maxHeight[0]:\n",
    "            maxHeight = (img.shape[0],0)\n",
    "        if img.shape[1] > maxHeight[0]:\n",
    "            maxHeight = (img.shape[1],0)\n",
    "    return maxHeight[0]  "
   ]
  },
  {
   "cell_type": "code",
   "execution_count": null,
   "metadata": {},
   "outputs": [],
   "source": []
  },
  {
   "cell_type": "code",
   "execution_count": null,
   "metadata": {},
   "outputs": [],
   "source": [
    "# Bilder zuschneiden\n",
    "\n",
    "def crop_images(images, tol=0):\n",
    "    croppedImages = []\n",
    "    for img in images:\n",
    "        croppedImages.append(crop_image(img, tol))\n",
    "    return croppedImages\n",
    "\n",
    "# Source: https://codereview.stackexchange.com/questions/132914/crop-black-border-of-image-using-numpy\n",
    "def crop_image(img,tol=0):\n",
    "    mask = img<tol\n",
    "    return img[np.ix_(mask.any(1),mask.any(0))]"
   ]
  },
  {
   "cell_type": "code",
   "execution_count": null,
   "metadata": {},
   "outputs": [],
   "source": []
  },
  {
   "cell_type": "code",
   "execution_count": null,
   "metadata": {},
   "outputs": [],
   "source": []
  },
  {
   "cell_type": "code",
   "execution_count": null,
   "metadata": {},
   "outputs": [],
   "source": [
    "# Bilder einlesen\n",
    "imageList = []\n",
    "pathList  = []\n",
    "for filename in glob.glob(imgDir + \"*.jpg\"): \n",
    "    image = io.imread(filename)\n",
    "    imageList.append(image)\n",
    "    pathList.append(filename)"
   ]
  },
  {
   "cell_type": "code",
   "execution_count": null,
   "metadata": {},
   "outputs": [],
   "source": [
    "#reduce dimension\n",
    "\n",
    "i = 0\n",
    "for item in imageList:\n",
    "    imageList[i] = item[:,:,0]\n",
    "    i = i+1"
   ]
  },
  {
   "cell_type": "code",
   "execution_count": null,
   "metadata": {},
   "outputs": [],
   "source": [
    "len(imageList)"
   ]
  },
  {
   "cell_type": "code",
   "execution_count": null,
   "metadata": {},
   "outputs": [],
   "source": [
    "#Nur zum Test\n",
    "\n",
    "#imageList = imageList[50:500]\n",
    "#pathList  = pathList[50:500]"
   ]
  },
  {
   "cell_type": "code",
   "execution_count": null,
   "metadata": {
    "scrolled": true
   },
   "outputs": [],
   "source": [
    "#show_images_unscaled(imageList)"
   ]
  },
  {
   "cell_type": "code",
   "execution_count": null,
   "metadata": {},
   "outputs": [],
   "source": [
    "croppedImages= crop_images(imageList,245)"
   ]
  },
  {
   "cell_type": "code",
   "execution_count": null,
   "metadata": {},
   "outputs": [],
   "source": [
    "#show_images_unscaled(croppedImages)"
   ]
  },
  {
   "cell_type": "code",
   "execution_count": null,
   "metadata": {},
   "outputs": [],
   "source": [
    "# just extract filename, not the whoel path. that would lead to the source directory\n",
    "imgNames = []\n",
    "\n",
    "for path in pathList:\n",
    "    imgNames.append(ntpath.basename(path))"
   ]
  },
  {
   "cell_type": "code",
   "execution_count": null,
   "metadata": {},
   "outputs": [],
   "source": []
  },
  {
   "cell_type": "code",
   "execution_count": null,
   "metadata": {},
   "outputs": [],
   "source": []
  },
  {
   "cell_type": "code",
   "execution_count": null,
   "metadata": {},
   "outputs": [],
   "source": [
    "images = []\n",
    "\n",
    "height = maxHeight(croppedImages)\n",
    "\n",
    "i = 0\n",
    "for imgTemp, filenameTemp in zip(croppedImages, imgNames):\n",
    "    img = Image.fromarray((imgTemp).astype('uint8'), mode='L')\n",
    "    img_w, img_h = img.size\n",
    "    background = Image.new('L', (height, height),\"white\") # Schwarzes Bild wird erstellt.\n",
    "    bg_w, bg_h = background.size\n",
    "    offset = ((bg_w - img_w) // 2, (bg_h - img_h) // 2)\n",
    "    background.paste(img, offset) # Ursprungsbild wird mittig in das schwarze Bild gesetzt. \n",
    "    \n",
    "    pathTemp = destImgDir + filenameTemp\n",
    "    background.save(pathTemp)\n",
    "    #croppedImages[i] = background\n",
    "    i = i+1"
   ]
  },
  {
   "cell_type": "code",
   "execution_count": null,
   "metadata": {},
   "outputs": [],
   "source": []
  },
  {
   "cell_type": "code",
   "execution_count": null,
   "metadata": {},
   "outputs": [],
   "source": []
  }
 ],
 "metadata": {
  "kernelspec": {
   "display_name": "Python [conda env:Anaconda-Python3.6]",
   "language": "python",
   "name": "conda-env-Anaconda-Python3.6-py"
  },
  "language_info": {
   "codemirror_mode": {
    "name": "ipython",
    "version": 3
   },
   "file_extension": ".py",
   "mimetype": "text/x-python",
   "name": "python",
   "nbconvert_exporter": "python",
   "pygments_lexer": "ipython3",
   "version": "3.7.3"
  }
 },
 "nbformat": 4,
 "nbformat_minor": 2
}
