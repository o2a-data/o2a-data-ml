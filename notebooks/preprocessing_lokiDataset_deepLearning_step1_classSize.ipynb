{
 "cells": [
  {
   "cell_type": "markdown",
   "metadata": {},
   "source": [
    "# Begrenzen des Datasets auf 1000\n",
    "\n",
    "Dieses Notebook begrenzt jede Klasse auf 1000.\n",
    "Klassen > 1000 werden auf 1000 beschränkt, dafür wird erst nach timestamp sortiert, anschliessend jedes xte Element gewählt.\n",
    "Klassen < 1000 werden auf 1000 augmented und anschliessend überzählige zufällig gelöscht. \n"
   ]
  },
  {
   "cell_type": "code",
   "execution_count": null,
   "metadata": {},
   "outputs": [],
   "source": [
    "from os import listdir,remove\n",
    "from os.path import isfile, join\n",
    "import csv\n",
    "from skimage import io\n",
    "import numpy as np\n",
    "import math\n",
    "import matplotlib.pyplot as plt\n",
    "import matplotlib.image as mpimg\n",
    "from PIL import Image\n",
    "from keras.preprocessing.image import ImageDataGenerator\n",
    "from matplotlib import pyplot\n",
    "import random"
   ]
  },
  {
   "cell_type": "markdown",
   "metadata": {},
   "source": [
    "<div class=\"alert alert-block alert-info\">\n",
    "<b>Attention:</b> The following variables must be edited.\n",
    "\n",
    "- __whitelistPath__ specifies which classes are to be considered.\n",
    "- __origImageDir__ contains all original images.\n",
    "- __origEcotaxaFile__ contains metadata of the images, stored in a tsv file.\n",
    "\n",
    "\n",
    "- __destImageDir__ is a folder in which all selected images are saved at the end.\n",
    "- __destEcotaxaFile__ is a tsv file in which the metadata for the selected images is stored.\n",
    "\n",
    "\n",
    "- __onlyValidated__ indicates whether only validated samples should be considered.\n",
    "- __noOfSamplesPerClass__ indicates the number of samples per class.\n",
    "\n",
    "\n",
    "</div>"
   ]
  },
  {
   "cell_type": "code",
   "execution_count": null,
   "metadata": {},
   "outputs": [],
   "source": [
    "# Set the path to the root folder containing the training data.\n",
    "# If you want to have access to the data please contact ...\n",
    "basePath = ''\n",
    "\n",
    "whitelistPath =   basePath + 'whitelist.txt'\n",
    "origImageDir =    basePath + 'Trainingsdatensatz/Trainingsdatensatz/'\n",
    "origEcotaxaFile = basePath + 'trainingsdatensatz.tsv'\n",
    "\n",
    "destImageDir =    basePath + 'Trainingsdatensatz_Klassengroesse/'\n",
    "destEcotaxaFile = basePath + 'Trainingsdatensatz_Klassengroesse.tsv'\n",
    "\n",
    "onlyValidated =   True\n",
    "noOfSamplesPerClass = 1000\n"
   ]
  },
  {
   "cell_type": "markdown",
   "metadata": {},
   "source": [
    "In this cell the __whitelist__ is read in."
   ]
  },
  {
   "cell_type": "code",
   "execution_count": null,
   "metadata": {},
   "outputs": [],
   "source": [
    "whitelist = []\n",
    "\n",
    "with open(whitelistPath, errors='ignore') as whitelistfile:\n",
    "    reader = csv.reader(whitelistfile, delimiter=',')\n",
    "    for row in reader:\n",
    "        whitelist.append(str(row)[2:-2])\n",
    "        \n",
    "print(\"Number of elements in the whitelist: \" + str(len(whitelist)))"
   ]
  },
  {
   "cell_type": "markdown",
   "metadata": {},
   "source": [
    "In this cell only rows are read from the __origEcotaxaFile__ which correspond to the __validated__ variable as well as to the __whitelist__."
   ]
  },
  {
   "cell_type": "code",
   "execution_count": null,
   "metadata": {},
   "outputs": [],
   "source": [
    "filteredTsv = []\n",
    "\n",
    "with open(origEcotaxaFile, errors='ignore') as tsvfile:\n",
    "    reader = csv.reader(tsvfile, delimiter='\\t')\n",
    "    for row in reader:\n",
    "        if row[8] == 'validated': # is validated\n",
    "            for wl in whitelist:  # is in whitelist\n",
    "                if row[14].startswith(wl):\n",
    "                    filteredTsv.append(row)\n",
    "\n",
    "print(\"Number of remaining samples after cleaning: \" + str(len(filteredTsv)))"
   ]
  },
  {
   "cell_type": "markdown",
   "metadata": {},
   "source": [
    "This method converts PNG images to JPEG and stores them in __destImageDir__. In addition, the associated metadata is stored in __destEcotaxaFile__."
   ]
  },
  {
   "cell_type": "code",
   "execution_count": null,
   "metadata": {},
   "outputs": [],
   "source": [
    "def loadAndSave(classList):\n",
    " \n",
    "    udialect=csv.unix_dialect\n",
    "    for f in classList:\n",
    "        path = origImageDir + f[0]\n",
    "        if isfile(path+\".png\"):\n",
    "            im = Image.open(path+\".png\")\n",
    "            im = im.convert('RGB')\n",
    "\n",
    "        elif isfile(path+\".jpg\"):\n",
    "            im = Image.open(path+\".jpg\")\n",
    "        else:\n",
    "            print(\"Error: \" + f[0])\n",
    "            continue\n",
    "        im.save(destImageDir + f[0] + \".jpg\")\n",
    "        im.close()\n",
    "        \n",
    "    with open(destEcotaxaFile, 'a') as tsvfile:\n",
    "        writer = csv.writer(tsvfile, dialect=udialect, delimiter='\\t', quotechar=\"'\")\n",
    "        writer.writerows(classList)"
   ]
  },
  {
   "cell_type": "markdown",
   "metadata": {},
   "source": [
    "This method is a helper method for sorting by timestamp."
   ]
  },
  {
   "cell_type": "code",
   "execution_count": null,
   "metadata": {},
   "outputs": [],
   "source": [
    "def sortTimestamp(val): \n",
    "    return val[4] "
   ]
  },
  {
   "cell_type": "markdown",
   "metadata": {},
   "source": [
    "This method sorts all images by their time stamp and then takes every nth element until __noSamplesPerClass__ samples were reached. N is calculated by the number of samples in the respective class divided by __noSamplesPerClass__ as an integer."
   ]
  },
  {
   "cell_type": "code",
   "execution_count": null,
   "metadata": {},
   "outputs": [],
   "source": [
    "def moreThanNoOfSamplesPerClass(classList):\n",
    "\n",
    "    classList.sort(key = sortTimestamp)\n",
    "    n = int(len(classList) / noOfSamplesPerClass)\n",
    " \n",
    "    classList = classList[0::n]\n",
    "    classList = classList[:noOfSamplesPerClass]\n",
    "\n",
    "    loadAndSave(classList)"
   ]
  },
  {
   "cell_type": "markdown",
   "metadata": {},
   "source": [
    "In this method, small classes were filled up to __noOfSamplesPerClass__ samples through data augmentation. Augmented samples get an extension of their object_id field in the metadata. The original object_id is enhanced by the addition \"augmented“ and a serial number. "
   ]
  },
  {
   "cell_type": "code",
   "execution_count": null,
   "metadata": {},
   "outputs": [],
   "source": [
    "def lessThanNoOfSamplesPerClass(classList):\n",
    "\n",
    "    udialect=csv.unix_dialect\n",
    "    n = int(np.ceil(noOfSamplesPerClass / len(classList)))\n",
    "    newClassList=[]\n",
    "    images = []\n",
    "    \n",
    "    for item in classList:\n",
    "        \n",
    "        path = origImageDir + item[0]\n",
    "        if isfile(path+\".png\"):\n",
    "            im = Image.open(path+\".png\")\n",
    "            im = im.convert('RGB')\n",
    "\n",
    "        elif isfile(path+\".jpg\"):\n",
    "            im = Image.open(path+\".jpg\")\n",
    "\n",
    "        else:\n",
    "            print(\"Error: \" + item[0])\n",
    "            continue\n",
    "            \n",
    "        im.save(destImageDir + item[0] + \".jpg\")\n",
    "     \n",
    "        with open(destEcotaxaFile, 'a') as tsvfile:\n",
    "            writer = csv.writer(tsvfile, dialect=udialect, delimiter='\\t', quotechar=\"'\")\n",
    "            writer.writerow(item)\n",
    "        \n",
    "        \n",
    "        #https://blog.keras.io/building-powerful-image-classification-models-using-very-little-data.html\n",
    "        # create image data augmentation generator\n",
    "        datagen = ImageDataGenerator(horizontal_flip = True,\n",
    "                                    rotation_range=180,\n",
    "                                    width_shift_range=0.1,\n",
    "                                    height_shift_range=0.1,\n",
    "                                    fill_mode='nearest')\n",
    "        \n",
    "        \n",
    "        sample = np.expand_dims(im, 0)\n",
    "        # prepare iterator\n",
    "        it = datagen.flow(sample, batch_size=1)\n",
    "        # generate samples and plot\n",
    "        for i in range(n-1):\n",
    "       \n",
    "            # generate batch of images\n",
    "            batch = it.next()\n",
    "\n",
    "            images.append(batch[0])\n",
    " \n",
    "            # new class list append\n",
    "            temp = item.copy()\n",
    "            temp[0] = temp[0] + \" augmented \" + str(i)\n",
    "            newClassList.append(temp)\n",
    "\n",
    "\n",
    "    combined = list(zip(images, newClassList))\n",
    "    random.shuffle(combined)\n",
    "    images[:], newClassList[:] = zip(*combined)\n",
    "    images = images[:(noOfSamplesPerClass-len(classList))]\n",
    "    newClassList = newClassList[:(noOfSamplesPerClass- len(classList))]\n",
    "\n",
    "    for imgTemp, tsvRow in zip(images,newClassList):\n",
    "        image = Image.fromarray(np.uint8(imgTemp), 'RGB')\n",
    "        image.save(destImageDir + tsvRow[0] + \".jpg\")\n",
    "        \n",
    "    with open(destEcotaxaFile, 'a') as tsvfile:\n",
    "        writer = csv.writer(tsvfile, dialect=udialect, delimiter='\\t', quotechar=\"'\")\n",
    "        writer.writerows(newClassList)"
   ]
  },
  {
   "cell_type": "markdown",
   "metadata": {},
   "source": [
    "This cell checks for each class whether it contains more or less samples than __noOfSamplesPerClass__. The classes are then reduced or extended and saved."
   ]
  },
  {
   "cell_type": "code",
   "execution_count": null,
   "metadata": {},
   "outputs": [],
   "source": [
    "for itemClass in whitelist:\n",
    "    temp = []\n",
    "    for tsvRow in filteredTsv:\n",
    "        if tsvRow[14].startswith(itemClass):\n",
    "            temp.append(tsvRow)\n",
    "    \n",
    "    if len(temp) >= noOfSamplesPerClass:\n",
    "    \n",
    "        moreThanNoOfSamplesPerClass(temp)\n",
    "    else:\n",
    "        \n",
    "        lessThanNoOfSamplesPerClass(temp)       "
   ]
  }
 ],
 "metadata": {
  "kernelspec": {
   "display_name": "Python [conda env:Anaconda-Python3.6]",
   "language": "python",
   "name": "conda-env-Anaconda-Python3.6-py"
  },
  "language_info": {
   "codemirror_mode": {
    "name": "ipython",
    "version": 3
   },
   "file_extension": ".py",
   "mimetype": "text/x-python",
   "name": "python",
   "nbconvert_exporter": "python",
   "pygments_lexer": "ipython3",
   "version": "3.7.3"
  }
 },
 "nbformat": 4,
 "nbformat_minor": 2
}
